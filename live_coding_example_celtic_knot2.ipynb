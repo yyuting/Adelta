{
 "cells": [
  {
   "cell_type": "code",
   "execution_count": 4,
   "metadata": {},
   "outputs": [],
   "source": [
    "# obtain a default Argument object that will be used to call the compiler\n",
    "import approx_gradient\n",
    "import os\n",
    "import default_setting\n",
    "args = approx_gradient.get_args([])\n",
    "approx_gradient.frame_idx = 0"
   ]
  },
  {
   "cell_type": "code",
   "execution_count": 5,
   "metadata": {},
   "outputs": [],
   "source": [
    "import os\n",
    "# chooses from 'hl', 'tf', 'torch'\n",
    "backend = 'hl'\n",
    "dest_dir = os.path.abspath('../celtic_knot2')\n",
    "default_setting.set_argument(args, dest_dir, 'celtic_knot2', backend)"
   ]
  },
  {
   "cell_type": "code",
   "execution_count": 6,
   "metadata": {},
   "outputs": [
    {
     "name": "stdout",
     "output_type": "stream",
     "text": [
      "loaded compiler_problem from /n/fs/scratch/yutingy/Adelta_demo/celtic_knot2\n",
      "Generating GLSL code...\n",
      "Done\n"
     ]
    }
   ],
   "source": [
    "approx_gradient.main(args)"
   ]
  },
  {
   "cell_type": "code",
   "execution_count": null,
   "metadata": {},
   "outputs": [],
   "source": []
  }
 ],
 "metadata": {
  "kernelspec": {
   "display_name": "Adelta",
   "language": "python",
   "name": "adelta"
  },
  "language_info": {
   "codemirror_mode": {
    "name": "ipython",
    "version": 3
   },
   "file_extension": ".py",
   "mimetype": "text/x-python",
   "name": "python",
   "nbconvert_exporter": "python",
   "pygments_lexer": "ipython3",
   "version": "3.6.10"
  }
 },
 "nbformat": 4,
 "nbformat_minor": 2
}
