{
 "cells": [
  {
   "cell_type": "code",
   "execution_count": 1,
   "metadata": {},
   "outputs": [],
   "source": [
    "# obtain a default Argument object that will be used to call the compiler\n",
    "import approx_gradient\n",
    "import os\n",
    "import default_setting\n",
    "args = approx_gradient.get_args([])\n",
    "approx_gradient.frame_idx = 0"
   ]
  },
  {
   "cell_type": "code",
   "execution_count": 2,
   "metadata": {},
   "outputs": [],
   "source": [
    "import os\n",
    "# chooses from 'hl', 'tf', 'torch'\n",
    "backend = 'hl'\n",
    "dest_dir = os.path.abspath('../celtic_knot2')\n",
    "default_setting.set_argument(args, dest_dir, 'celtic_knot2', backend)"
   ]
  },
  {
   "cell_type": "code",
   "execution_count": 3,
   "metadata": {},
   "outputs": [
    {
     "name": "stdout",
     "output_type": "stream",
     "text": [
      "cd apps; python render_single.py /n/fs/scratch/yutingy/Adelta_demo/celtic_knot2 render_celtic_knot2 --backend hl --compiler_modes fw,fw,fw_prune_updates --use_select_rule 1 --use_multiplication_rule 1 --ndims 2 ; cd ..\n",
      "0\n",
      "loaded compiler_problem from /n/fs/scratch/yutingy/Adelta_demo/celtic_knot2\n",
      "comparison using metric 1_scale_L2\n",
      "reset_min set to True for newly created buffers\n",
      "Instantiated buffer 0 with shape  (640, 640, 3)\n"
     ]
    },
    {
     "name": "stderr",
     "output_type": "stream",
     "text": [
      "/n/fs/scratch/yutingy/Adelta_demo/Adelta/approx_gradient.py:189: UserWarning: /n/fs/scratch/yutingy/Adelta_demo/celtic_knot2/init00000.png is a low contrast image\n",
      "  skimage.io.imsave(name, np.clip(img, 0, 1))\n"
     ]
    },
    {
     "name": "stdout",
     "output_type": "stream",
     "text": [
      "mean magnitude error: 256.0\n",
      "mean normalized error: 8.0\n",
      "reset_min set to True for newly created buffers\n",
      "Instantiated buffer 0 with shape  (640, 640, 3)\n",
      "cd apps; python render_single.py /n/fs/scratch/yutingy/Adelta_demo/celtic_knot2 render_celtic_knot2 --backend glsl --compiler_modes fw --no_compute_g --par_file /n/fs/scratch/yutingy/Adelta_demo/celtic_knot2/glsl_par.npy --do_prune 1,0,0,0,1,0,0,1,0,1\n"
     ]
    }
   ],
   "source": [
    "approx_gradient.main(args)"
   ]
  },
  {
   "cell_type": "code",
   "execution_count": null,
   "metadata": {},
   "outputs": [],
   "source": []
  }
 ],
 "metadata": {
  "kernelspec": {
   "display_name": "Adelta",
   "language": "python",
   "name": "adelta"
  },
  "language_info": {
   "codemirror_mode": {
    "name": "ipython",
    "version": 3
   },
   "file_extension": ".py",
   "mimetype": "text/x-python",
   "name": "python",
   "nbconvert_exporter": "python",
   "pygments_lexer": "ipython3",
   "version": "3.6.10"
  }
 },
 "nbformat": 4,
 "nbformat_minor": 2
}
