{
 "cells": [
  {
   "cell_type": "code",
   "execution_count": 1,
   "metadata": {},
   "outputs": [],
   "source": [
    "# obtain a default Argument object that will be used to call the compiler\n",
    "import approx_gradient\n",
    "import os\n",
    "args = approx_gradient.get_args([])"
   ]
  },
  {
   "cell_type": "code",
   "execution_count": 2,
   "metadata": {},
   "outputs": [],
   "source": [
    "# chooses from 'hl', 'tf', 'torch'\n",
    "backend = 'hl'\n",
    "dest_dir = '/n/fs/scratch/yutingy/celtic_knot'\n",
    "# this optimization problem is more challenging, as can be seen in paper Figure 8 (b)\n",
    "# so it's possible that the 5 random initialization may not converge to global optimum\n",
    "# extra_runs can be set to True to run 100 random initializations instead\n",
    "extra_runs = False"
   ]
  },
  {
   "cell_type": "code",
   "execution_count": 3,
   "metadata": {},
   "outputs": [],
   "source": [
    "run_optimization = False\n",
    "shader_suffix = '3'"
   ]
  },
  {
   "cell_type": "code",
   "execution_count": 4,
   "metadata": {},
   "outputs": [],
   "source": [
    "# Optimization settings\n",
    "args.dir = dest_dir + shader_suffix\n",
    "args.shader = 'celtic_knot' + shader_suffix\n",
    "args.backend = backend\n",
    "args.render_size = '640,640'\n",
    "args.gt_file = 'celtic_knot.png'\n",
    "if backend == 'hl':\n",
    "    args.gt_transposed = True\n",
    "else:\n",
    "    args.gt_transposed = False\n",
    "if run_optimization:\n",
    "    args.modes = 'optimization'\n",
    "    args.metrics = '5_scale_L2'\n",
    "    args.smoothing_sigmas = '0.5,1,2,5'\n",
    "    args.learning_rate = 0.01\n",
    "    args.multi_scale_optimization = True\n",
    "    args.alternating_times = 5\n",
    "    args.tunable_param_random_var = True\n",
    "    args.tunable_param_random_var_opt = True\n",
    "    args.tunable_param_random_var_seperate_opt = True\n",
    "    args.tunable_param_random_var_std = 1.\n",
    "    args.save_all_loss = True\n",
    "    args.reset_opt_each_scale = False\n",
    "    args.reset_sigma = False\n",
    "    if args.backend in ['tf', 'torch']:\n",
    "        args.verbose = True\n",
    "    else:\n",
    "        args.verbose = False\n",
    "    args.save_best_par = True\n",
    "    if extra_runs:\n",
    "        args.init_values_pool = 'apps/example_init_values/test_finite_diffring_contour_extra_init_values_pool.npy'\n",
    "    else:\n",
    "        args.init_values_pool = 'apps/example_init_values/test_finite_diffring_contour_init_values_pool.npy'\n",
    "else:\n",
    "    args.modes = 'render'\n",
    "    args.init_values_pool = os.path.join(dest_dir, 'best_par.npy')"
   ]
  },
  {
   "cell_type": "code",
   "execution_count": 5,
   "metadata": {},
   "outputs": [
    {
     "name": "stdout",
     "output_type": "stream",
     "text": [
      "cd apps; python render_single.py /n/fs/scratch/yutingy/celtic_knot3 render_celtic_knot3 --backend hl --compiler_modes fw,fw,fw_prune_updates --use_select_rule 1 --use_multiplication_rule 1 --ndims 2 ; cd ..\n",
      "loaded compiler_problem from /n/fs/scratch/yutingy/celtic_knot3\n",
      "comparison using metric 1_scale_L2\n",
      "reset_min set to True for newly created buffers\n",
      "Instantiated buffer 0 with shape  (640, 640, 3)\n"
     ]
    },
    {
     "name": "stderr",
     "output_type": "stream",
     "text": [
      "/n/fs/shaderml/Adelta/approx_gradient.py:189: UserWarning: /n/fs/scratch/yutingy/celtic_knot3/init00000.png is a low contrast image\n",
      "  skimage.io.imsave(name, np.clip(img, 0, 1))\n"
     ]
    },
    {
     "name": "stdout",
     "output_type": "stream",
     "text": [
      "mean magnitude error: 256.0\n",
      "mean normalized error: 8.0\n",
      "reset_min set to True for newly created buffers\n",
      "Instantiated buffer 0 with shape  (640, 640, 3)\n",
      "cd apps; python render_single.py /n/fs/scratch/yutingy/celtic_knot3 render_celtic_knot3 --backend glsl --compiler_modes fw --no_compute_g --par_file /n/fs/scratch/yutingy/celtic_knot3/glsl_par.npy --do_prune 1,0,0,0,1,0,0,1,0,1\n"
     ]
    }
   ],
   "source": [
    "approx_gradient.main(args)"
   ]
  },
  {
   "cell_type": "code",
   "execution_count": null,
   "metadata": {
    "scrolled": false
   },
   "outputs": [],
   "source": [
    "from IPython.display import Image, display\n",
    "\n",
    "listOfImageNames = []\n",
    "\n",
    "for i in range(5):\n",
    "    listOfImageNames.append(os.path.join(args.dir, 'init_no_random%d.png' % i))\n",
    "    listOfImageNames.append(os.path.join(args.dir, 'ours_%s_%s_%.1e_result%d_0.png' % (args.metrics,\n",
    "                                                                                       args.optimizer,\n",
    "                                                                                       args.learning_rate,\n",
    "                                                                                       i)))\n",
    "\n",
    "for imageName in listOfImageNames:\n",
    "    display(Image(filename=imageName, width=300))"
   ]
  },
  {
   "cell_type": "code",
   "execution_count": null,
   "metadata": {},
   "outputs": [],
   "source": []
  }
 ],
 "metadata": {
  "kernelspec": {
   "display_name": "Adelta",
   "language": "python",
   "name": "adelta"
  },
  "language_info": {
   "codemirror_mode": {
    "name": "ipython",
    "version": 3
   },
   "file_extension": ".py",
   "mimetype": "text/x-python",
   "name": "python",
   "nbconvert_exporter": "python",
   "pygments_lexer": "ipython3",
   "version": "3.6.10"
  }
 },
 "nbformat": 4,
 "nbformat_minor": 2
}
